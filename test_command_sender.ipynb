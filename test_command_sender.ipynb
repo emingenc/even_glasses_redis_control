{
 "cells": [
  {
   "cell_type": "code",
   "execution_count": 1,
   "metadata": {},
   "outputs": [],
   "source": [
    "from command_sender import CommandSender"
   ]
  },
  {
   "cell_type": "code",
   "execution_count": 2,
   "metadata": {},
   "outputs": [
    {
     "name": "stderr",
     "output_type": "stream",
     "text": [
      "INFO:command_sender:Connected to Redis server.\n"
     ]
    }
   ],
   "source": [
    "sender = CommandSender(redis_url=\"redis://localhost\")\n",
    "await sender.connect()"
   ]
  },
  {
   "cell_type": "code",
   "execution_count": 18,
   "metadata": {},
   "outputs": [
    {
     "name": "stderr",
     "output_type": "stream",
     "text": [
      "INFO:command_sender:Published command to Redis: {'command': 'send_text', 'args': ['Hello, Glasses!'], 'kwargs': {'duration': 5}}\n"
     ]
    }
   ],
   "source": [
    "# 1. Send a text message to the glasses\n",
    "await sender.send_text_command(text_message=\"Hello, Glasses!\", duration=5)"
   ]
  },
  {
   "cell_type": "code",
   "execution_count": 5,
   "metadata": {},
   "outputs": [
    {
     "name": "stderr",
     "output_type": "stream",
     "text": [
      "INFO:command_sender:Published command to Redis: {'command': 'send_notification', 'args': [], 'kwargs': {'notification': {'msg_id': 1, 'type': 1, 'app_identifier': 'org.telegram.messenger', 'title': 'Test Notification', 'subtitle': 'Subtitle', 'message': 'This is a test notification.', 'display_name': 'ExampleApp'}}}\n"
     ]
    }
   ],
   "source": [
    "# 2. send a notification\n",
    "notification = {\n",
    "    \"msg_id\": 1,\n",
    "    \"type\": 1,\n",
    "    \"app_identifier\": \"org.telegram.messenger\",\n",
    "    \"title\": \"Test Notification\",\n",
    "    \"subtitle\": \"Subtitle\",\n",
    "    \"message\": \"This is a test notification.\",\n",
    "    \"display_name\": \"ExampleApp\"\n",
    "}\n",
    "await sender.send_notification_command(notification=notification)"
   ]
  },
  {
   "cell_type": "code",
   "execution_count": 19,
   "metadata": {},
   "outputs": [
    {
     "name": "stderr",
     "output_type": "stream",
     "text": [
      "INFO:command_sender:Published command to Redis: {'command': 'send_rsvp', 'args': ['This is a sample text for RSVP display.'], 'kwargs': {'config': {'wpm': 1300, 'words_per_group': 4}}}\n"
     ]
    }
   ],
   "source": [
    "# 3. Send RSVP\n",
    "rsvp_config = {\n",
    "    \"wpm\": 1300,\n",
    "    \"words_per_group\": 4\n",
    "}\n",
    "await sender.send_rsvp_command(text=\"This is a sample text for RSVP display.\", config=rsvp_config)"
   ]
  },
  {
   "cell_type": "code",
   "execution_count": null,
   "metadata": {},
   "outputs": [
    {
     "name": "stderr",
     "output_type": "stream",
     "text": [
      "INFO:command_sender:Published command to Redis: {'command': 'apply_silent_mode', 'args': [], 'kwargs': {'status': 10}}\n"
     ]
    }
   ],
   "source": [
    "# 4. Send Silent Mode\n",
    "await sender.apply_silent_mode_command(status=\"ON\")"
   ]
  },
  {
   "cell_type": "code",
   "execution_count": 10,
   "metadata": {},
   "outputs": [
    {
     "name": "stderr",
     "output_type": "stream",
     "text": [
      "INFO:command_sender:Published command to Redis: {'command': 'apply_brightness', 'args': [], 'kwargs': {'level': 30, 'auto': 0}}\n"
     ]
    }
   ],
   "source": [
    "# 5. Apply Brightness\n",
    "await sender.apply_brightness_command(level=30, auto=\"OFF\")"
   ]
  },
  {
   "cell_type": "code",
   "execution_count": 16,
   "metadata": {},
   "outputs": [
    {
     "name": "stderr",
     "output_type": "stream",
     "text": [
      "INFO:command_sender:Published command to Redis: {'command': 'apply_headup_angle', 'args': [], 'kwargs': {'angle': 20}}\n"
     ]
    }
   ],
   "source": [
    "# 6. Apply Head-Up Angle\n",
    "await sender.apply_headup_angle_command(angle=20)"
   ]
  },
  {
   "cell_type": "code",
   "execution_count": 13,
   "metadata": {},
   "outputs": [
    {
     "name": "stderr",
     "output_type": "stream",
     "text": [
      "INFO:command_sender:Published command to Redis: {'command': 'add_or_update_note', 'args': [1], 'kwargs': {'title': 'Meeting Notes', 'text': \"Don't forget to send the report.\"}}\n"
     ]
    }
   ],
   "source": [
    "# 7. Add or Update Note\n",
    "await sender.add_or_update_note_command(note_number=1, title=\"Meeting Notes\", text=\"Don't forget to send the report.\")"
   ]
  },
  {
   "cell_type": "code",
   "execution_count": 12,
   "metadata": {},
   "outputs": [
    {
     "name": "stderr",
     "output_type": "stream",
     "text": [
      "INFO:command_sender:Published command to Redis: {'command': 'delete_note', 'args': [1], 'kwargs': {}}\n"
     ]
    }
   ],
   "source": [
    "# 8. Delete Note\n",
    "await sender.delete_note_command(note_number=1)"
   ]
  },
  {
   "cell_type": "code",
   "execution_count": 14,
   "metadata": {},
   "outputs": [
    {
     "name": "stderr",
     "output_type": "stream",
     "text": [
      "INFO:command_sender:Published command to Redis: {'command': 'show_dashboard', 'args': [], 'kwargs': {'position': 0}}\n"
     ]
    }
   ],
   "source": [
    "# 9. Show Dashboard\n",
    "await sender.show_dashboard_command(position=0)\n"
   ]
  },
  {
   "cell_type": "code",
   "execution_count": 15,
   "metadata": {},
   "outputs": [
    {
     "name": "stderr",
     "output_type": "stream",
     "text": [
      "INFO:command_sender:Published command to Redis: {'command': 'hide_dashboard', 'args': [], 'kwargs': {'position': 0}}\n"
     ]
    }
   ],
   "source": [
    "# 10. Hide Dashboard\n",
    "await sender.hide_dashboard_command(position=0)"
   ]
  },
  {
   "cell_type": "code",
   "execution_count": 16,
   "metadata": {},
   "outputs": [
    {
     "name": "stderr",
     "output_type": "stream",
     "text": [
      "INFO:command_sender:Published command to Redis: {'command': 'apply_glasses_wear', 'args': [], 'kwargs': {'status': 1}}\n"
     ]
    }
   ],
   "source": [
    "# 11. Apply Glasses Wear\n",
    "await sender.apply_glasses_wear_command(status=\"ON\")"
   ]
  }
 ],
 "metadata": {
  "kernelspec": {
   "display_name": "venv",
   "language": "python",
   "name": "python3"
  },
  "language_info": {
   "codemirror_mode": {
    "name": "ipython",
    "version": 3
   },
   "file_extension": ".py",
   "mimetype": "text/x-python",
   "name": "python",
   "nbconvert_exporter": "python",
   "pygments_lexer": "ipython3",
   "version": "3.12.0"
  }
 },
 "nbformat": 4,
 "nbformat_minor": 2
}
